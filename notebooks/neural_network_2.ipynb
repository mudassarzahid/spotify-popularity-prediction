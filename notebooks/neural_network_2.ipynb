{
 "cells": [
  {
   "cell_type": "code",
   "execution_count": 2,
   "id": "equivalent-municipality",
   "metadata": {},
   "outputs": [],
   "source": [
    "from __future__ import absolute_import, division, print_function\n",
    "\n",
    "# TensorFlow and tf.keras\n",
    "import tensorflow as tf\n",
    "from tensorflow import keras\n",
    "\n",
    "# Helper libraries\n",
    "import numpy as np\n",
    "import pandas as pd\n",
    "import matplotlib.pyplot as plt\n",
    "from sklearn.model_selection import train_test_split"
   ]
  },
  {
   "cell_type": "code",
   "execution_count": 3,
   "id": "popular-exploration",
   "metadata": {},
   "outputs": [],
   "source": [
    "data = pd.read_csv('./data/data_2000_2020.csv')\n",
    "\n",
    "features = ['valence', 'acousticness', 'danceability',\n",
    "            'duration_ms', 'energy', 'explicit', 'instrumentalness','year', 'key',\n",
    "            'liveness', 'loudness', 'mode', 'speechiness', 'tempo']\n",
    "\n",
    "X = data[features]\n",
    "y = data.popularity\n",
    "\n",
    "train_X, test_X, train_y, test_y = train_test_split(X, y, test_size=0.2, random_state=0)"
   ]
  },
  {
   "cell_type": "code",
   "execution_count": 5,
   "id": "imported-guess",
   "metadata": {},
   "outputs": [],
   "source": [
    "inputs = keras.layers.Input(shape=(14,))\n",
    "\n",
    "# # MLP:\n",
    "flat1 = keras.layers.Flatten()(inputs)\n",
    "dense1 = keras.layers.Dense(1000, activation=tf.nn.relu)(flat1)\n",
    "dense2 = keras.layers.Dense(500, activation=tf.nn.relu)(dense1)\n",
    "dense3 = keras.layers.Dense(500, activation=tf.nn.relu)(dense2)\n",
    "prediction = keras.layers.Dense(101, activation=tf.nn.softmax)(dense3)\n",
    "\n",
    "model = keras.Model(inputs=inputs, outputs=prediction)"
   ]
  },
  {
   "cell_type": "code",
   "execution_count": 6,
   "id": "complete-facing",
   "metadata": {},
   "outputs": [],
   "source": [
    "model.compile(optimizer='adam',\n",
    "              loss='sparse_categorical_crossentropy',\n",
    "              metrics=['accuracy'])"
   ]
  },
  {
   "cell_type": "code",
   "execution_count": 7,
   "id": "familiar-dominant",
   "metadata": {},
   "outputs": [
    {
     "name": "stdout",
     "output_type": "stream",
     "text": [
      "Epoch 1/10\n",
      "33896/33896 [==============================] - 5s 140us/sample - loss: 384.1816 - acc: 0.2440\n",
      "Epoch 2/10\n",
      "33896/33896 [==============================] - 5s 137us/sample - loss: 9.1933 - acc: 0.2604\n",
      "Epoch 3/10\n",
      "33896/33896 [==============================] - 5s 136us/sample - loss: 13.9473 - acc: 0.2579\n",
      "Epoch 4/10\n",
      "33896/33896 [==============================] - 5s 144us/sample - loss: 5.5567 - acc: 0.2606\n",
      "Epoch 5/10\n",
      "33896/33896 [==============================] - 5s 154us/sample - loss: 3.6637 - acc: 0.2617\n",
      "Epoch 6/10\n",
      "33896/33896 [==============================] - 5s 151us/sample - loss: 5.4858 - acc: 0.2593\n",
      "Epoch 7/10\n",
      "33896/33896 [==============================] - 5s 157us/sample - loss: 3.6638 - acc: 0.2617\n",
      "Epoch 8/10\n",
      "33896/33896 [==============================] - 6s 164us/sample - loss: 3.6638 - acc: 0.2617\n",
      "Epoch 9/10\n",
      "33896/33896 [==============================] - 11s 321us/sample - loss: 3.6643 - acc: 0.2617 - loss: 3.6686 - acc:  - ETA: 1s - loss: 3.66 - ETA: 0s - loss: 3.6627 - acc: \n",
      "Epoch 10/10\n",
      "33896/33896 [==============================] - 17s 507us/sample - loss: 3.6651 - acc: 0.2617\n"
     ]
    },
    {
     "data": {
      "text/plain": [
       "<tensorflow.python.keras.callbacks.History at 0x7f5ead9e5b38>"
      ]
     },
     "execution_count": 7,
     "metadata": {},
     "output_type": "execute_result"
    }
   ],
   "source": [
    "model.fit(train_X, train_y, epochs=10)"
   ]
  }
 ],
 "metadata": {
  "kernelspec": {
   "display_name": "Python 3",
   "language": "python",
   "name": "python3"
  },
  "language_info": {
   "codemirror_mode": {
    "name": "ipython",
    "version": 3
   },
   "file_extension": ".py",
   "mimetype": "text/x-python",
   "name": "python",
   "nbconvert_exporter": "python",
   "pygments_lexer": "ipython3",
   "version": "3.7.3"
  }
 },
 "nbformat": 4,
 "nbformat_minor": 5
}
