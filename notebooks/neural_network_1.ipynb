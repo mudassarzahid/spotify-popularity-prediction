{
 "cells": [
  {
   "cell_type": "code",
   "execution_count": 2,
   "id": "noticed-sauce",
   "metadata": {},
   "outputs": [],
   "source": [
    "from __future__ import absolute_import, division, print_function\n",
    "\n",
    "# TensorFlow and tf.keras\n",
    "import tensorflow as tf\n",
    "from tensorflow import keras\n",
    "\n",
    "# Helper libraries\n",
    "import numpy as np\n",
    "import pandas as pd\n",
    "import matplotlib.pyplot as plt\n",
    "from sklearn.model_selection import train_test_split"
   ]
  },
  {
   "cell_type": "code",
   "execution_count": 3,
   "id": "steady-tucson",
   "metadata": {},
   "outputs": [],
   "source": [
    "data = pd.read_csv('./data/processed_data.csv')\n",
    "\n",
    "features = ['valence', 'acousticness', 'danceability',\n",
    "            'duration_ms', 'energy', 'explicit', 'instrumentalness','year', 'key',\n",
    "            'liveness', 'loudness', 'mode', 'speechiness', 'tempo']\n",
    "\n",
    "X = data[features]\n",
    "y = data.popularity\n",
    "\n",
    "train_X, test_X, train_y, test_y = train_test_split(X, y, test_size=0.2, random_state=0)"
   ]
  },
  {
   "cell_type": "code",
   "execution_count": 5,
   "id": "complicated-hobby",
   "metadata": {},
   "outputs": [],
   "source": [
    "inputs = keras.layers.Input(shape=(14,))\n",
    "\n",
    "# # MLP:\n",
    "flat1 = keras.layers.Flatten()(inputs)\n",
    "dense1 = keras.layers.Dense(1000, activation=tf.nn.relu)(flat1)\n",
    "dense2 = keras.layers.Dense(500, activation=tf.nn.relu)(dense1)\n",
    "dense3 = keras.layers.Dense(500, activation=tf.nn.relu)(dense2)\n",
    "prediction = keras.layers.Dense(101, activation=tf.nn.softmax)(dense3)\n",
    "\n",
    "model = keras.Model(inputs=inputs, outputs=prediction)"
   ]
  },
  {
   "cell_type": "code",
   "execution_count": 6,
   "id": "geological-weight",
   "metadata": {},
   "outputs": [],
   "source": [
    "model.compile(optimizer='adam',\n",
    "              loss='sparse_categorical_crossentropy',\n",
    "              metrics=['accuracy'])"
   ]
  },
  {
   "cell_type": "code",
   "execution_count": 7,
   "id": "ongoing-sharp",
   "metadata": {},
   "outputs": [
    {
     "name": "stdout",
     "output_type": "stream",
     "text": [
      "Epoch 1/10\n",
      "135927/135927 [==============================] - 21s 155us/sample - loss: 99.5602 - acc: 0.1576\n",
      "Epoch 2/10\n",
      "135927/135927 [==============================] - 50s 365us/sample - loss: 4.0186 - acc: 0.1604 - loss: 4.0\n",
      "Epoch 3/10\n",
      "135927/135927 [==============================] - 54s 401us/sample - loss: 4.0195 - acc: 0.1604\n",
      "Epoch 4/10\n",
      "135927/135927 [==============================] - 54s 396us/sample - loss: 4.0201 - acc: 0.1604 - loss: 4.0189 - ac\n",
      "Epoch 5/10\n",
      "135927/135927 [==============================] - 54s 400us/sample - loss: 4.0200 - acc: 0.1604 - - ETA: 1s - loss: 4.0200 - acc: 0.16 - ETA: 1s - loss: 4.0\n",
      "Epoch 6/10\n",
      "135927/135927 [==============================] - 56s 411us/sample - loss: 4.0196 - acc: 0.1604\n",
      "Epoch 7/10\n",
      "135927/135927 [==============================] - 54s 397us/sample - loss: 4.0192 - acc: 0.1604\n",
      "Epoch 8/10\n",
      "135927/135927 [==============================] - 55s 402us/sample - loss: 4.0187 - acc: 0.1604 - loss:\n",
      "Epoch 9/10\n",
      "135927/135927 [==============================] - 52s 383us/sample - loss: 4.0185 - acc: 0.1604\n",
      "Epoch 10/10\n",
      "135927/135927 [==============================] - 52s 380us/sample - loss: 4.0183 - acc: 0.1604\n"
     ]
    },
    {
     "data": {
      "text/plain": [
       "<tensorflow.python.keras.callbacks.History at 0x7f7bc68089b0>"
      ]
     },
     "execution_count": 7,
     "metadata": {},
     "output_type": "execute_result"
    }
   ],
   "source": [
    "model.fit(train_X, train_y, epochs=10)"
   ]
  }
 ],
 "metadata": {
  "kernelspec": {
   "display_name": "Python 3",
   "language": "python",
   "name": "python3"
  },
  "language_info": {
   "codemirror_mode": {
    "name": "ipython",
    "version": 3
   },
   "file_extension": ".py",
   "mimetype": "text/x-python",
   "name": "python",
   "nbconvert_exporter": "python",
   "pygments_lexer": "ipython3",
   "version": "3.7.3"
  }
 },
 "nbformat": 4,
 "nbformat_minor": 5
}
